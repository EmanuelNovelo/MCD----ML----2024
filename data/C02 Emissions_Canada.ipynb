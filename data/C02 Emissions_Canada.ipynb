{
 "cells": [
  {
   "cell_type": "markdown",
   "metadata": {},
   "source": [
    "## **CO2 Emission by Vehicles**\n",
    "\n",
    "![Link]\"(https://www.kaggle.com/datasets/debajyotipodder/co2-emission-by-vehicles)\"\n",
    "\n",
    "### **About Dataset**\n",
    "\n",
    "#### **CONTEXT**\n",
    "Hi, I am currently pursuing PGP in Data Science. Recently we were assigned with a project on regression and hypothesis by our Statistics department. While looking for a dataset relevant to my project, I stumbled upon this one.\n",
    "\n",
    "#### **CONTENT**\n",
    "This dataset captures the details of how CO2 emissions by a vehicle can vary with the different features. The dataset has been taken from Canada Government official open data website. This is a compiled version. This contains data over a period of 7 years.\n",
    "There are total 7385 rows and 12 columns. There are few abbreviations that has been used to describe the features. I am listing them out here. The same can be found in the Data Description sheet.\n",
    "\n",
    "**Model**\n",
    "4WD/4X4 = Four-wheel drive\n",
    "AWD = All-wheel drive\n",
    "FFV = Flexible-fuel vehicle\n",
    "SWB = Short wheelbase\n",
    "LWB = Long wheelbase\n",
    "EWB = Extended wheelbase\n",
    "\n",
    "**Transmission**\n",
    "A = Automatic\n",
    "AM = Automated manual\n",
    "AS = Automatic with select shift\n",
    "AV = Continuously variable\n",
    "M = Manual\n",
    "3 - 10 = Number of gears\n",
    "\n",
    "**Fuel type**\n",
    "X = Regular gasoline\n",
    "Z = Premium gasoline\n",
    "D = Diesel\n",
    "E = Ethanol (E85)\n",
    "N = Natural gas\n",
    "\n",
    "**Fuel Consumption**\n",
    "City and highway fuel consumption ratings are shown in litres per 100 kilometres (L/100 km) - the combined rating (55% city, 45% hwy) is shown in L/100 km and in miles per gallon (mpg)\n",
    "\n",
    "**CO2 Emissions**\n",
    "The tailpipe emissions of carbon dioxide (in grams per kilometre) for combined city and highway driving\n",
    "\n",
    "#### **ACKNOWLEDGEMENTS**\n",
    "The data has been taken and compiled from the below Canada Government official link\n",
    "https://open.canada.ca/data/en/dataset/98f1a129-f628-4ce4-b24d-6f16bf24dd64#wb-auto-6"
   ]
  }
 ],
 "metadata": {
  "language_info": {
   "name": "python"
  }
 },
 "nbformat": 4,
 "nbformat_minor": 2
}
