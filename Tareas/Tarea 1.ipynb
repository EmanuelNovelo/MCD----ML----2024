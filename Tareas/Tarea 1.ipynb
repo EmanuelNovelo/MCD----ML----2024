{
 "cells": [
  {
   "cell_type": "markdown",
   "metadata": {},
   "source": [
    "### Conjunto de Datos"
   ]
  },
  {
   "cell_type": "markdown",
   "metadata": {},
   "source": [
    "En esta tarea se describe el conjunto de datos seleccionado para usarse durante el curso"
   ]
  },
  {
   "cell_type": "markdown",
   "metadata": {},
   "source": [
    "Se usó uno de los datasets del link de [Kaggle](https://www.kaggle.com/datasets/ammaraahmad/top-10-machine-learning-datasets)\n",
    "\n",
    "![img](/Img/2024-05-13%2010_02_33-Top%2010%20Machine%20Learning%20datasets.png)\n",
    "\n",
    "Al final se selecciona el Dataset CO2 emission, el cual contiene información de +930 vehiculos y su emisión de CO2\n",
    "\n",
    "Las columnas y su descripción son:\n",
    "- Model_Year: Año del modelo de vehículo\n",
    "- Make: Empresa que lo fabricó\n",
    "- Model: Modelo/nombre específico del coche\n",
    "- Vehicle_Class: Tipo de vehiculo, si es compacto, SUV, etc\n",
    "- Engine_Size: Tamaño (litros) del motor\n",
    "- Cylinders: No. de cilindros del motor\n",
    "- Transmission: Nombre de la transmisión del vehículo\n",
    "- Fuel_Consumption_in_City(L/100 km): Consumo de combustible  en ciudad\n",
    "- Fuel_Consumption_in_City_Hwy(L/100 km): Consumo de combustible en carretera\n",
    "- Fuel_Consumption_comb(L/100km): Consumo de combustible combinado\n",
    "- CO2_Emissions: Emisiones de CO2\n",
    "- Smog_Level: Nivel de Smog emitido (siendo 7 el más alto)\n",
    "\n",
    "El dataset se eligió ya que estaba en el 1 del ranking de mejores datasets para practicar ML según Kaggle, ya que son ejemplos de datos de la vida real. Aparte de eso la verdad me parece muy interesante el tema de emisión en vehículos, ya que siempre me han llamado la atención los carros, sobre todo los deportivos, y creo que es importante tomar conciencia que hoy en día algunos de éstos tienen emisiones muy altas, por lo que contaminan el ambiente.\n",
    "\n",
    "En lo personal aún no tengo claro el objetivo del dataset, en cuanto a modelos de ML, creo que podría ser útil para Clusterización, aunque espero descubrir el alcance del potencial que tiene este dataset.\n",
    "\n",
    "El dataset esta cargado aquí:\n",
    "[dataset](/data/CO2_emission.csv)"
   ]
  }
 ],
 "metadata": {
  "kernelspec": {
   "display_name": "Python 3",
   "language": "python",
   "name": "python3"
  },
  "language_info": {
   "name": "python",
   "version": "3.11.9"
  }
 },
 "nbformat": 4,
 "nbformat_minor": 2
}
